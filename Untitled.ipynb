{
 "cells": [
  {
   "cell_type": "code",
   "execution_count": 2,
   "metadata": {},
   "outputs": [
    {
     "name": "stdout",
     "output_type": "stream",
     "text": [
      "      No         種類   地域  市区町村コード 都道府県名 市区町村名  地区名 最寄駅：名称 最寄駅：距離（分）  \\\n",
      "0      1     宅地(土地)  住宅地    23202   愛知県   岡崎市  青木町    東岡崎   1H?1H30   \n",
      "1      2  宅地(土地と建物)  住宅地    23202   愛知県   岡崎市  青木町    東岡崎   1H?1H30   \n",
      "2      3  宅地(土地と建物)  住宅地    23202   愛知県   岡崎市  青木町    東岡崎   1H?1H30   \n",
      "3      4  宅地(土地と建物)  住宅地    23202   愛知県   岡崎市  赤渋町     岡崎        25   \n",
      "4      5     宅地(土地)  住宅地    23202   愛知県   岡崎市  赤渋町     岡崎   30分?60分   \n",
      "..   ...        ...  ...      ...   ...   ...  ...    ...       ...   \n",
      "857  858     宅地(土地)  住宅地    23202   愛知県   岡崎市   渡町     岡崎   30分?60分   \n",
      "858  859  宅地(土地と建物)  住宅地    23202   愛知県   岡崎市   渡町    西岡崎        23   \n",
      "859  860     宅地(土地)  住宅地    23202   愛知県   岡崎市   渡町    矢作橋        12   \n",
      "860  861     宅地(土地)  工業地    23202   愛知県   岡崎市   渡町    矢作橋        12   \n",
      "861  862     宅地(土地)  住宅地    23202   愛知県   岡崎市   渡町    矢作橋        15   \n",
      "\n",
      "      取引価格（総額）  ...  今後の利用目的 前面道路：方位 前面道路：種類  前面道路：幅員（ｍ）          都市計画  \\\n",
      "0     19000000  ...      その他       東      市道         7.0        近隣商業地域   \n",
      "1     37000000  ...       住宅       南      市道         9.0  第１種中高層住居専用地域   \n",
      "2     21000000  ...       住宅       南      市道         6.0  第１種中高層住居専用地域   \n",
      "3     19000000  ...       住宅      南西      市道         6.0       第１種住居地域   \n",
      "4     17000000  ...      NaN      北東      道路         3.0       第１種住居地域   \n",
      "..         ...  ...      ...     ...     ...         ...           ...   \n",
      "857   21000000  ...       住宅      北西      市道         5.0       市街化調整区域   \n",
      "858  800000000  ...      事務所      南西      市道        10.0       市街化調整区域   \n",
      "859   20000000  ...       住宅      南東      市道         4.0          工業地域   \n",
      "860   15000000  ...      NaN      北西      市道         4.0          工業地域   \n",
      "861   20000000  ...       住宅      北西      市道         6.0          工業地域   \n",
      "\n",
      "    建ぺい率（％） 容積率（％）        取引時点   改装 取引の事情等  \n",
      "0      80.0  200.0  2018年第４四半期  NaN    NaN  \n",
      "1      60.0  200.0  2018年第４四半期  NaN    NaN  \n",
      "2      60.0  200.0  2018年第３四半期  NaN    NaN  \n",
      "3      60.0  200.0  2019年第１四半期  NaN    NaN  \n",
      "4      60.0  200.0  2018年第４四半期  NaN    NaN  \n",
      "..      ...    ...         ...  ...    ...  \n",
      "857    60.0  200.0  2018年第４四半期  NaN    NaN  \n",
      "858     NaN    NaN  2018年第１四半期  NaN    NaN  \n",
      "859    60.0  200.0  2018年第２四半期  NaN    NaN  \n",
      "860    60.0  200.0  2018年第２四半期  NaN    NaN  \n",
      "861    60.0  200.0  2018年第２四半期  NaN    NaN  \n",
      "\n",
      "[862 rows x 30 columns]\n"
     ]
    }
   ],
   "source": [
    "data_from_csv = pd.read_csv('23202_20181_20191.csv', encoding='cp932')\n",
    "print(data_from_csv)"
   ]
  },
  {
   "cell_type": "code",
   "execution_count": 3,
   "metadata": {},
   "outputs": [
    {
     "name": "stdout",
     "output_type": "stream",
     "text": [
      "['宅地(土地)' '宅地(土地と建物)' '中古マンション等' '農地' '林地']\n"
     ]
    }
   ],
   "source": [
    "print(data_from_csv[\"種類\"].unique())"
   ]
  },
  {
   "cell_type": "code",
   "execution_count": null,
   "metadata": {},
   "outputs": [],
   "source": [
    "data_used_apartment = data_from_csv.query('種類 == \"中古マンション等\"')"
   ]
  },
  {
   "cell_type": "code",
   "execution_count": null,
   "metadata": {},
   "outputs": [],
   "source": []
  },
  {
   "cell_type": "code",
   "execution_count": null,
   "metadata": {},
   "outputs": [],
   "source": []
  }
 ],
 "metadata": {
  "kernelspec": {
   "display_name": "Python 3",
   "language": "python",
   "name": "python3"
  },
  "language_info": {
   "codemirror_mode": {
    "name": "ipython",
    "version": 3
   },
   "file_extension": ".py",
   "mimetype": "text/x-python",
   "name": "python",
   "nbconvert_exporter": "python",
   "pygments_lexer": "ipython3",
   "version": "3.6.8"
  }
 },
 "nbformat": 4,
 "nbformat_minor": 2
}
