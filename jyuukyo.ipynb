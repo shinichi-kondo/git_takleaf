{
 "cells": [
  {
   "cell_type": "code",
   "execution_count": 4,
   "metadata": {},
   "outputs": [
    {
     "name": "stdout",
     "output_type": "stream",
     "text": [
      "(862, 30)\n"
     ]
    }
   ],
   "source": [
    "import numpy as np\n",
    "import matplotlib.pyplot as plt\n",
    "import pandas as pd\n",
    "import random\n",
    "%matplotlib inline\n",
    "import seaborn as sns\n",
    "from sklearn.linear_model import LinearRegression\n",
    "from sklearn.model_selection import train_test_split\n",
    "\n",
    "import requests\n",
    "import json\n",
    "import re\n",
    "\n",
    "data_from_csv = pd.read_csv(\"23202_20181_20191.csv\",encoding='cp932')\n",
    "print(data_from_csv.shape)"
   ]
  },
  {
   "cell_type": "code",
   "execution_count": 5,
   "metadata": {},
   "outputs": [
    {
     "name": "stdout",
     "output_type": "stream",
     "text": [
      "No                     1\n",
      "種類                宅地(土地)\n",
      "地域                   住宅地\n",
      "市区町村コード            23202\n",
      "都道府県名                愛知県\n",
      "市区町村名                岡崎市\n",
      "地区名                  青木町\n",
      "最寄駅：名称               東岡崎\n",
      "最寄駅：距離（分）        1H?1H30\n",
      "取引価格（総額）        19000000\n",
      "坪単価               330000\n",
      "間取り                  NaN\n",
      "面積（㎡）                190\n",
      "取引価格（㎡単価）         100000\n",
      "土地の形状                袋地等\n",
      "間口                   NaN\n",
      "延床面積（㎡）              NaN\n",
      "建築年                  NaN\n",
      "建物の構造                NaN\n",
      "用途                   NaN\n",
      "今後の利用目的              その他\n",
      "前面道路：方位                東\n",
      "前面道路：種類               市道\n",
      "前面道路：幅員（ｍ）             7\n",
      "都市計画              近隣商業地域\n",
      "建ぺい率（％）               80\n",
      "容積率（％）               200\n",
      "取引時点          2018年第４四半期\n",
      "改装                   NaN\n",
      "取引の事情等               NaN\n",
      "Name: 0, dtype: object\n"
     ]
    }
   ],
   "source": [
    "print(data_from_csv.iloc[0])"
   ]
  },
  {
   "cell_type": "code",
   "execution_count": 6,
   "metadata": {},
   "outputs": [
    {
     "name": "stdout",
     "output_type": "stream",
     "text": [
      "   No         種類   地域  市区町村コード 都道府県名 市区町村名  地区名 最寄駅：名称 最寄駅：距離（分）  取引価格（総額）  \\\n",
      "0   1     宅地(土地)  住宅地    23202   愛知県   岡崎市  青木町    東岡崎   1H?1H30  19000000   \n",
      "1   2  宅地(土地と建物)  住宅地    23202   愛知県   岡崎市  青木町    東岡崎   1H?1H30  37000000   \n",
      "2   3  宅地(土地と建物)  住宅地    23202   愛知県   岡崎市  青木町    東岡崎   1H?1H30  21000000   \n",
      "3   4  宅地(土地と建物)  住宅地    23202   愛知県   岡崎市  赤渋町     岡崎        25  19000000   \n",
      "4   5     宅地(土地)  住宅地    23202   愛知県   岡崎市  赤渋町     岡崎   30分?60分  17000000   \n",
      "5   6     宅地(土地)  住宅地    23202   愛知県   岡崎市  赤渋町     岡崎   30分?60分  19000000   \n",
      "6   7     宅地(土地)  住宅地    23202   愛知県   岡崎市  赤渋町     岡崎   30分?60分  84000000   \n",
      "7   8  宅地(土地と建物)  住宅地    23202   愛知県   岡崎市  赤渋町     岡崎        28  38000000   \n",
      "8   9  宅地(土地と建物)  住宅地    23202   愛知県   岡崎市  赤渋町     岡崎   30分?60分  32000000   \n",
      "9  10   中古マンション等  NaN    23202   愛知県   岡崎市  朝日町    東岡崎        18   5300000   \n",
      "\n",
      "   ...  今後の利用目的 前面道路：方位 前面道路：種類  前面道路：幅員（ｍ）          都市計画 建ぺい率（％） 容積率（％）  \\\n",
      "0  ...      その他       東      市道         7.0        近隣商業地域    80.0  200.0   \n",
      "1  ...       住宅       南      市道         9.0  第１種中高層住居専用地域    60.0  200.0   \n",
      "2  ...       住宅       南      市道         6.0  第１種中高層住居専用地域    60.0  200.0   \n",
      "3  ...       住宅      南西      市道         6.0       第１種住居地域    60.0  200.0   \n",
      "4  ...      NaN      北東      道路         3.0       第１種住居地域    60.0  200.0   \n",
      "5  ...      NaN   接面道路無     NaN         NaN       第１種住居地域    60.0  200.0   \n",
      "6  ...      NaN      南西      市道         4.5       第１種住居地域    60.0  200.0   \n",
      "7  ...       住宅      北西      市道         4.1       第１種住居地域    60.0  200.0   \n",
      "8  ...       住宅      南東      市道         6.5       第１種住居地域    60.0  200.0   \n",
      "9  ...       住宅     NaN     NaN         NaN        近隣商業地域    80.0  300.0   \n",
      "\n",
      "         取引時点   改装  取引の事情等  \n",
      "0  2018年第４四半期  NaN     NaN  \n",
      "1  2018年第４四半期  NaN     NaN  \n",
      "2  2018年第３四半期  NaN     NaN  \n",
      "3  2019年第１四半期  NaN     NaN  \n",
      "4  2018年第４四半期  NaN     NaN  \n",
      "5  2018年第４四半期  NaN     NaN  \n",
      "6  2018年第４四半期  NaN     NaN  \n",
      "7  2018年第３四半期  NaN     NaN  \n",
      "8  2018年第１四半期  NaN     NaN  \n",
      "9  2018年第４四半期  未改装  調停・競売等  \n",
      "\n",
      "[10 rows x 30 columns]\n"
     ]
    }
   ],
   "source": [
    "print(data_from_csv.head(10))"
   ]
  },
  {
   "cell_type": "code",
   "execution_count": 10,
   "metadata": {},
   "outputs": [
    {
     "name": "stdout",
     "output_type": "stream",
     "text": [
      "   No         種類   地域  市区町村コード 都道府県名 市区町村名  地区名 最寄駅：名称 最寄駅：距離（分）  取引価格（総額）  \\\n",
      "0   1     宅地(土地)  住宅地    23202   愛知県   岡崎市  青木町    東岡崎   1H?1H30  19000000   \n",
      "1   2  宅地(土地と建物)  住宅地    23202   愛知県   岡崎市  青木町    東岡崎   1H?1H30  37000000   \n",
      "2   3  宅地(土地と建物)  住宅地    23202   愛知県   岡崎市  青木町    東岡崎   1H?1H30  21000000   \n",
      "3   4  宅地(土地と建物)  住宅地    23202   愛知県   岡崎市  赤渋町     岡崎        25  19000000   \n",
      "4   5     宅地(土地)  住宅地    23202   愛知県   岡崎市  赤渋町     岡崎   30分?60分  17000000   \n",
      "5   6     宅地(土地)  住宅地    23202   愛知県   岡崎市  赤渋町     岡崎   30分?60分  19000000   \n",
      "6   7     宅地(土地)  住宅地    23202   愛知県   岡崎市  赤渋町     岡崎   30分?60分  84000000   \n",
      "7   8  宅地(土地と建物)  住宅地    23202   愛知県   岡崎市  赤渋町     岡崎        28  38000000   \n",
      "8   9  宅地(土地と建物)  住宅地    23202   愛知県   岡崎市  赤渋町     岡崎   30分?60分  32000000   \n",
      "9  10   中古マンション等  NaN    23202   愛知県   岡崎市  朝日町    東岡崎        18   5300000   \n",
      "\n",
      "   ...  今後の利用目的 前面道路：方位 前面道路：種類  前面道路：幅員（ｍ）          都市計画 建ぺい率（％） 容積率（％）  \\\n",
      "0  ...      その他       東      市道         7.0        近隣商業地域    80.0  200.0   \n",
      "1  ...       住宅       南      市道         9.0  第１種中高層住居専用地域    60.0  200.0   \n",
      "2  ...       住宅       南      市道         6.0  第１種中高層住居専用地域    60.0  200.0   \n",
      "3  ...       住宅      南西      市道         6.0       第１種住居地域    60.0  200.0   \n",
      "4  ...      NaN      北東      道路         3.0       第１種住居地域    60.0  200.0   \n",
      "5  ...      NaN   接面道路無     NaN         NaN       第１種住居地域    60.0  200.0   \n",
      "6  ...      NaN      南西      市道         4.5       第１種住居地域    60.0  200.0   \n",
      "7  ...       住宅      北西      市道         4.1       第１種住居地域    60.0  200.0   \n",
      "8  ...       住宅      南東      市道         6.5       第１種住居地域    60.0  200.0   \n",
      "9  ...       住宅     NaN     NaN         NaN        近隣商業地域    80.0  300.0   \n",
      "\n",
      "         取引時点   改装  取引の事情等  \n",
      "0  2018年第４四半期  NaN     NaN  \n",
      "1  2018年第４四半期  NaN     NaN  \n",
      "2  2018年第３四半期  NaN     NaN  \n",
      "3  2019年第１四半期  NaN     NaN  \n",
      "4  2018年第４四半期  NaN     NaN  \n",
      "5  2018年第４四半期  NaN     NaN  \n",
      "6  2018年第４四半期  NaN     NaN  \n",
      "7  2018年第３四半期  NaN     NaN  \n",
      "8  2018年第１四半期  NaN     NaN  \n",
      "9  2018年第４四半期  未改装  調停・競売等  \n",
      "\n",
      "[10 rows x 30 columns]\n"
     ]
    }
   ],
   "source": [
    "print(data_from_csv.head(10))"
   ]
  },
  {
   "cell_type": "code",
   "execution_count": 11,
   "metadata": {},
   "outputs": [
    {
     "name": "stdout",
     "output_type": "stream",
     "text": [
      "['宅地(土地)' '宅地(土地と建物)' '中古マンション等' '農地' '林地']\n"
     ]
    }
   ],
   "source": [
    "print(data_from_csv[\"種類\"].unique())"
   ]
  },
  {
   "cell_type": "code",
   "execution_count": 9,
   "metadata": {},
   "outputs": [
    {
     "name": "stdout",
     "output_type": "stream",
     "text": [
      "(77, 30)\n"
     ]
    }
   ],
   "source": [
    "data_used_apartment = data_from_csv.query('種類 == \"中古マンション等\"')\n",
    "print(data_used_apartment.shape)"
   ]
  },
  {
   "cell_type": "code",
   "execution_count": 10,
   "metadata": {},
   "outputs": [
    {
     "name": "stdout",
     "output_type": "stream",
     "text": [
      "No             0\n",
      "種類             0\n",
      "地域            77\n",
      "市区町村コード        0\n",
      "都道府県名          0\n",
      "市区町村名          0\n",
      "地区名            0\n",
      "最寄駅：名称         0\n",
      "最寄駅：距離（分）      0\n",
      "取引価格（総額）       0\n",
      "坪単価           77\n",
      "間取り            7\n",
      "面積（㎡）          0\n",
      "取引価格（㎡単価）     77\n",
      "土地の形状         77\n",
      "間口            77\n",
      "延床面積（㎡）       77\n",
      "建築年            1\n",
      "建物の構造          0\n",
      "用途            27\n",
      "今後の利用目的        1\n",
      "前面道路：方位       77\n",
      "前面道路：種類       77\n",
      "前面道路：幅員（ｍ）    77\n",
      "都市計画           0\n",
      "建ぺい率（％）        1\n",
      "容積率（％）         1\n",
      "取引時点           0\n",
      "改装             6\n",
      "取引の事情等        76\n",
      "dtype: int64\n"
     ]
    }
   ],
   "source": [
    "print(data_used_apartment.isnull().sum())"
   ]
  },
  {
   "cell_type": "code",
   "execution_count": 11,
   "metadata": {},
   "outputs": [
    {
     "name": "stdout",
     "output_type": "stream",
     "text": [
      "(77, 9)\n",
      "(69, 9)\n",
      "最寄駅：距離（分）         18\n",
      "間取り             ４ＬＤＫ\n",
      "面積（㎡）             75\n",
      "建築年            昭和60年\n",
      "建物の構造             ＲＣ\n",
      "建ぺい率（％）           80\n",
      "容積率（％）           300\n",
      "市区町村名            岡崎市\n",
      "取引価格（総額）     5300000\n",
      "Name: 9, dtype: object\n"
     ]
    }
   ],
   "source": [
    "columns_name_list = [\"最寄駅：距離（分）\",\"間取り\",\"面積（㎡）\",\"建築年\",\"建物の構造\",\"建ぺい率（％）\",\"容積率（％）\",\"市区町村名\",\"取引価格（総額）\"]\n",
    "data_selected = data_used_apartment[columns_name_list]\n",
    "print(data_selected.shape)\n",
    "\n",
    "data_selected_dropna = data_selected.dropna(how='any')\n",
    "print(data_selected_dropna.shape)\n",
    "print(data_selected_dropna.iloc[0])"
   ]
  },
  {
   "cell_type": "code",
   "execution_count": 12,
   "metadata": {},
   "outputs": [
    {
     "name": "stdout",
     "output_type": "stream",
     "text": [
      "['昭和60年' '平成16年' '昭和63年' '平成8年' '平成3年' '平成15年' '平成5年' '平成2年' '平成11年'\n",
      " '平成14年' '平成13年' '平成24年' '平成23年' '平成9年' '昭和64年' '昭和58年' '昭和59年' '昭和48年'\n",
      " '平成20年' '平成6年' '平成10年' '平成21年' '平成17年' '平成7年' '平成4年']\n"
     ]
    }
   ],
   "source": [
    "print(data_selected_dropna[\"建築年\"].unique())"
   ]
  },
  {
   "cell_type": "code",
   "execution_count": null,
   "metadata": {},
   "outputs": [],
   "source": []
  },
  {
   "cell_type": "code",
   "execution_count": null,
   "metadata": {},
   "outputs": [],
   "source": []
  }
 ],
 "metadata": {
  "kernelspec": {
   "display_name": "Python 3",
   "language": "python",
   "name": "python3"
  },
  "language_info": {
   "codemirror_mode": {
    "name": "ipython",
    "version": 3
   },
   "file_extension": ".py",
   "mimetype": "text/x-python",
   "name": "python",
   "nbconvert_exporter": "python",
   "pygments_lexer": "ipython3",
   "version": "3.6.8"
  }
 },
 "nbformat": 4,
 "nbformat_minor": 2
}
